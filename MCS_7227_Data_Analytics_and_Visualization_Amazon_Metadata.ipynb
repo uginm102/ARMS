{
  "nbformat": 4,
  "nbformat_minor": 0,
  "metadata": {
    "colab": {
      "provenance": [],
      "authorship_tag": "ABX9TyMNLsOW9iFx9hK7i/KIN63O",
      "include_colab_link": true
    },
    "kernelspec": {
      "name": "python3",
      "display_name": "Python 3"
    },
    "language_info": {
      "name": "python"
    }
  },
  "cells": [
    {
      "cell_type": "markdown",
      "metadata": {
        "id": "view-in-github",
        "colab_type": "text"
      },
      "source": [
        "<a href=\"https://colab.research.google.com/github/uginm102/ARMS/blob/master/MCS_7227_Data_Analytics_and_Visualization_Amazon_Metadata.ipynb\" target=\"_parent\"><img src=\"https://colab.research.google.com/assets/colab-badge.svg\" alt=\"Open In Colab\"/></a>"
      ]
    },
    {
      "cell_type": "markdown",
      "source": [
        "#Analyzing Product Popularity and Customer Preferences in Amazon Metadata"
      ],
      "metadata": {
        "id": "gR_VXijtb9Zp"
      }
    },
    {
      "cell_type": "code",
      "source": [
        "import pandas as pd\n",
        "import numpy as np\n",
        "from sklearn.linear_model import LinearRegression\n",
        "from sklearn.model_selection import train_test_split\n",
        "from sklearn.metrics import mean_squared_error, r2_score\n",
        "from sklearn.preprocessing import StandardScaler\n",
        "\n",
        "\n",
        "from sklearn.cluster import KMeans\n",
        "from sklearn.metrics import silhouette_score\n",
        "import matplotlib.pyplot as plt"
      ],
      "metadata": {
        "id": "LzMQERHNcB7j"
      },
      "execution_count": 14,
      "outputs": []
    },
    {
      "cell_type": "code",
      "source": [
        "from google.colab import drive\n",
        "drive.mount('/content/drive')"
      ],
      "metadata": {
        "colab": {
          "base_uri": "https://localhost:8080/"
        },
        "id": "ShoygVnRcZog",
        "outputId": "c1b8577d-2cd3-454a-a3f0-896eeae145bf"
      },
      "execution_count": 1,
      "outputs": [
        {
          "output_type": "stream",
          "name": "stdout",
          "text": [
            "Mounted at /content/drive\n"
          ]
        }
      ]
    },
    {
      "cell_type": "code",
      "source": [
        "# File path to the cleaned dataset\n",
        "input_file = \"/content/drive/MyDrive/Personal/Masters/Msc Comp Sc - MUK/Year 1/Sem 2/MCS7227 Data Analytics and Visualization/amazon_sample_sample.csv\""
      ],
      "metadata": {
        "id": "WV-kY9dWc2Xd"
      },
      "execution_count": 15,
      "outputs": []
    },
    {
      "cell_type": "code",
      "source": [
        "# Step 1: Load the cleaned dataset\n",
        "df = pd.read_csv(input_file)\n",
        "\n",
        "# Step 2: Compute dataset statistics\n",
        "# 2.1: Category distribution (percentage of \"Books\")\n",
        "category_counts = df['category'].value_counts(normalize=True) * 100  # Percentage\n",
        "books_percentage = category_counts.get('Books', 0)  # Default to 0 if 'Books' not found\n",
        "print(f\"Percentage of 'Books': {books_percentage:.1f}%\")\n",
        "\n",
        "# 2.2: Average rating (mean of non-null avg_rating)\n",
        "avg_rating = df['avg_rating'].mean()\n",
        "print(f\"Average rating: {avg_rating:.1f}/5\")\n",
        "\n",
        "# 2.3: Median sales rank (median of non-null salesrank, excluding -1)\n",
        "valid_salesrank = df[df['salesrank'] != -1]['salesrank']  # Filter out invalid ranks\n",
        "median_salesrank = valid_salesrank.median()\n",
        "print(f\"Median sales rank: {median_salesrank:,.0f}\")\n",
        "\n",
        "# Optional: Additional summary stats for verification\n",
        "print(\"\\nAdditional Statistics:\")\n",
        "print(f\"Total products: {len(df)}\")\n",
        "print(f\"Products with reviews: {len(df[df['review_count'] > 0])}\")\n",
        "print(f\"Products with valid sales rank: {len(valid_salesrank)}\")\n",
        "\n",
        "# Step 3: Save statistics to a text file (optional)\n",
        "with open(\"dataset_stats.txt\", \"w\") as f:\n",
        "    f.write(f\"Percentage of 'Books': {books_percentage:.1f}%\\n\")\n",
        "    f.write(f\"Average rating: {avg_rating:.1f}/5\\n\")\n",
        "    f.write(f\"Median sales rank: {median_salesrank:,.0f}\\n\")\n",
        "print(f\"Statistics saved to dataset_stats.txt\")"
      ],
      "metadata": {
        "colab": {
          "base_uri": "https://localhost:8080/"
        },
        "id": "BYOZjynMcyNa",
        "outputId": "f012995e-8ac5-406e-c067-e031a62d83a2"
      },
      "execution_count": 16,
      "outputs": [
        {
          "output_type": "stream",
          "name": "stdout",
          "text": [
            "Percentage of 'Books': 0.0%\n",
            "Average rating: 3.4/5\n",
            "Median sales rank: 485,399\n",
            "\n",
            "Additional Statistics:\n",
            "Total products: 10\n",
            "Products with reviews: 7\n",
            "Products with valid sales rank: 9\n",
            "Statistics saved to dataset_stats.txt\n"
          ]
        }
      ]
    },
    {
      "cell_type": "code",
      "source": [
        "# Step 1: Load the cleaned dataset\n",
        "df = pd.read_csv(input_file)\n",
        "\n",
        "# Step 2: Prepare features and target\n",
        "# Filter out invalid sales ranks (-1) if any remain\n",
        "df = df[df['salesrank'] != -1]\n",
        "\n",
        "# Use log_salesrank as target (assumes OpenRefine created this column)\n",
        "# If not, compute it here (uncomment if needed)\n",
        "df['log_salesrank'] = np.log(df['salesrank'].replace(0, 1))  # Avoid log(0)\n",
        "\n",
        "# Features: review_count, avg_rating, and one-hot encoded category\n",
        "X_numeric = df[['review_count', 'avg_rating']].fillna({'avg_rating': 0})  # Impute NaN avg_rating with 0\n",
        "X_categorical = pd.get_dummies(df['category'], prefix='cat')  # One-hot encode category\n",
        "X = pd.concat([X_numeric, X_categorical], axis=1)\n",
        "\n",
        "# Target: log_salesrank\n",
        "y = df['log_salesrank']\n",
        "\n",
        "# Step 3: Split data into training and test sets\n",
        "X_train, X_test, y_train, y_test = train_test_split(X, y, test_size=0.2, random_state=42)\n",
        "\n",
        "# Step 4: Standardize numeric features (review_count, avg_rating)\n",
        "scaler = StandardScaler()\n",
        "X_train_numeric = scaler.fit_transform(X_train[['review_count', 'avg_rating']])\n",
        "X_test_numeric = scaler.transform(X_test[['review_count', 'avg_rating']])\n",
        "\n",
        "# Recombine with categorical features (not scaled)\n",
        "X_train_scaled = np.hstack([X_train_numeric, X_train[X_categorical.columns].values])\n",
        "X_test_scaled = np.hstack([X_test_numeric, X_test[X_categorical.columns].values])\n",
        "\n",
        "# Step 5: Train the linear regression model\n",
        "reg = LinearRegression()\n",
        "reg.fit(X_train_scaled, y_train)\n",
        "\n",
        "# Step 6: Make predictions and evaluate\n",
        "y_pred = reg.predict(X_test_scaled)\n",
        "\n",
        "# Compute metrics\n",
        "mse = mean_squared_error(y_test, y_pred)\n",
        "r2 = r2_score(y_test, y_pred)\n",
        "\n",
        "print(f\"Mean Squared Error (MSE): {mse:,.0f}\")\n",
        "print(f\"R^2 Score: {r2:.2f}\")\n",
        "\n",
        "# Step 7: Analyze feature importance (coefficients)\n",
        "feature_names = ['review_count', 'avg_rating'] + list(X_categorical.columns)\n",
        "coefficients = pd.DataFrame({\n",
        "    'Feature': feature_names,\n",
        "    'Coefficient': reg.coef_\n",
        "})\n",
        "print(\"\\nFeature Coefficients:\")\n",
        "print(coefficients.sort_values(by='Coefficient', ascending=False))\n",
        "\n",
        "# Step 8: Save results (optional)\n",
        "results = {\n",
        "    'MSE': mse,\n",
        "    'R2': r2,\n",
        "    'Coefficients': coefficients.to_dict()\n",
        "}\n",
        "print(f\"MSE: {mse:,.0f}\\n\")\n",
        "print(f\"R^2: {r2:.2f}\\n\")\n",
        "print(\"\\nFeature Coefficients:\\n\")\n",
        "print(coefficients.to_string(index=False))\n",
        "# with open(\"regression_results.txt\", \"w\") as f:\n",
        "#     f.write(f\"MSE: {mse:,.0f}\\n\")\n",
        "#     f.write(f\"R^2: {r2:.2f}\\n\")\n",
        "#     f.write(\"\\nFeature Coefficients:\\n\")\n",
        "#     f.write(coefficients.to_string(index=False))\n",
        "# print(\"Results saved to regression_results.txt\")"
      ],
      "metadata": {
        "colab": {
          "base_uri": "https://localhost:8080/"
        },
        "id": "WVFPBQDsdWaf",
        "outputId": "5cdfa4f8-8d58-4391-9f93-348518f8a454"
      },
      "execution_count": 30,
      "outputs": [
        {
          "output_type": "stream",
          "name": "stdout",
          "text": [
            "Mean Squared Error (MSE): 0\n",
            "R^2 Score: -0.01\n",
            "\n",
            "Feature Coefficients:\n",
            "        Feature  Coefficient\n",
            "2      cat_Book     1.372714\n",
            "1    avg_rating    -0.171758\n",
            "3     cat_Video    -1.372714\n",
            "0  review_count    -1.646853\n",
            "MSE: 0\n",
            "\n",
            "R^2: -0.01\n",
            "\n",
            "\n",
            "Feature Coefficients:\n",
            "\n",
            "     Feature  Coefficient\n",
            "review_count    -1.646853\n",
            "  avg_rating    -0.171758\n",
            "    cat_Book     1.372714\n",
            "   cat_Video    -1.372714\n"
          ]
        }
      ]
    },
    {
      "cell_type": "code",
      "source": [
        "# Step 1: Load the cleaned dataset\n",
        "df = pd.read_csv(input_file)\n",
        "\n",
        "# Step 2: Prepare features for clustering\n",
        "# Use review_count and avg_rating as clustering features\n",
        "X = df[['review_count', 'avg_rating']].fillna({'avg_rating': 0})  # Impute NaN avg_rating with 0\n",
        "\n",
        "# Step 3: Standardize features\n",
        "scaler = StandardScaler()\n",
        "X_scaled = scaler.fit_transform(X)\n",
        "\n",
        "# Step 4: Determine optimal number of clusters using the elbow method\n",
        "inertia = []\n",
        "k_range = range(2, 8)  # Test k from 2 to 10\n",
        "for k in k_range:\n",
        "    kmeans = KMeans(n_clusters=k, random_state=42)\n",
        "    kmeans.fit(X_scaled)\n",
        "    inertia.append(kmeans.inertia_)\n"
      ],
      "metadata": {
        "id": "PvKBRAo0dzaT"
      },
      "execution_count": 28,
      "outputs": []
    },
    {
      "cell_type": "code",
      "source": [
        "# Plot elbow curve\n",
        "plt.figure(figsize=(8, 6))\n",
        "plt.plot(k_range, inertia, marker='o')\n",
        "plt.xlabel('Number of Clusters (k)')\n",
        "plt.ylabel('Inertia (Within-Cluster Sum of Squares)')\n",
        "plt.title('Elbow Method for Optimal k')\n",
        "# plt.savefig('elbow_curve.png')\n",
        "plt.show()\n",
        "# print(\"Elbow curve saved to 'elbow_curve.png'\")"
      ],
      "metadata": {
        "colab": {
          "base_uri": "https://localhost:8080/",
          "height": 564
        },
        "id": "B8y9O1PYeW2M",
        "outputId": "39eecf85-b009-45e3-c4da-cec55377ebd2"
      },
      "execution_count": 29,
      "outputs": [
        {
          "output_type": "display_data",
          "data": {
            "text/plain": [
              "<Figure size 800x600 with 1 Axes>"
            ],
            "image/png": "[encoded data removed]"
          },
          "metadata": {}
        }
      ]
    },
    {
      "cell_type": "code",
      "source": [
        "\n",
        "\n",
        "# Step 5: Perform k-means clustering with k=5 (chosen from elbow method)\n",
        "k_optimal = 5\n",
        "kmeans = KMeans(n_clusters=k_optimal, random_state=42)\n",
        "cluster_labels = kmeans.fit_predict(X_scaled)\n",
        "\n",
        "# Add cluster labels to DataFrame\n",
        "df['cluster'] = cluster_labels"
      ],
      "metadata": {
        "id": "MPlGGypxendT"
      },
      "execution_count": 21,
      "outputs": []
    },
    {
      "cell_type": "code",
      "source": [
        "# Step 6: Evaluate clustering with silhouette score\n",
        "silhouette_avg = silhouette_score(X_scaled, cluster_labels)\n",
        "print(f\"Silhouette Score for k={k_optimal}: {silhouette_avg:.2f}\")"
      ],
      "metadata": {
        "colab": {
          "base_uri": "https://localhost:8080/"
        },
        "id": "_oQnXAmYeqjH",
        "outputId": "c3306d76-5588-48fa-d365-663fc7b1cccf"
      },
      "execution_count": 22,
      "outputs": [
        {
          "output_type": "stream",
          "name": "stdout",
          "text": [
            "Silhouette Score for k=5: 0.64\n"
          ]
        }
      ]
    },
    {
      "cell_type": "code",
      "source": [
        "# Step 7: Analyze cluster characteristics\n",
        "cluster_summary = df.groupby('cluster').agg({\n",
        "    'review_count': ['mean', 'count'],\n",
        "    'avg_rating': 'mean',\n",
        "    'category': lambda x: x.value_counts().index[0]  # Most common category\n",
        "}).rename(columns={'<lambda>': 'top_category'})\n",
        "\n",
        "print(\"\\nCluster Summary:\")\n",
        "print(cluster_summary)"
      ],
      "metadata": {
        "colab": {
          "base_uri": "https://localhost:8080/"
        },
        "id": "1DoZNO5wes8x",
        "outputId": "395d5fe2-aced-427a-bc6e-01c9dd81d273"
      },
      "execution_count": 23,
      "outputs": [
        {
          "output_type": "stream",
          "name": "stdout",
          "text": [
            "\n",
            "Cluster Summary:\n",
            "        review_count       avg_rating     category\n",
            "                mean count       mean top_category\n",
            "cluster                                           \n",
            "0           0.000000     3        0.0         Book\n",
            "1           6.333333     3        4.0         Book\n",
            "2         198.000000     1        4.5         Book\n",
            "3           2.000000     2        5.0         Book\n",
            "4           2.000000     1        4.0         Book\n"
          ]
        }
      ]
    },
    {
      "cell_type": "code",
      "source": [
        "# Step 8: Infer cluster descriptions (manual interpretation)\n",
        "cluster_descriptions = {\n",
        "    0: \"Low reviews, moderate ratings\",\n",
        "    1: \"High-rated books\",\n",
        "    2: \"Niche DVDs\",\n",
        "    3: \"High review count, variable ratings\",\n",
        "    4: \"Low-rated, few reviews\"\n",
        "}  # Adjust based on actual summary output\n",
        "\n",
        "print(\"\\nCluster Descriptions (Tentative):\")\n",
        "for i, desc in cluster_descriptions.items():\n",
        "    print(f\"Cluster {i}: {desc}\")"
      ],
      "metadata": {
        "colab": {
          "base_uri": "https://localhost:8080/"
        },
        "id": "iJrnTiipewkA",
        "outputId": "00041fbe-914a-4897-f92a-84a486b63008"
      },
      "execution_count": 24,
      "outputs": [
        {
          "output_type": "stream",
          "name": "stdout",
          "text": [
            "\n",
            "Cluster Descriptions (Tentative):\n",
            "Cluster 0: Low reviews, moderate ratings\n",
            "Cluster 1: High-rated books\n",
            "Cluster 2: Niche DVDs\n",
            "Cluster 3: High review count, variable ratings\n",
            "Cluster 4: Low-rated, few reviews\n"
          ]
        }
      ]
    },
    {
      "cell_type": "code",
      "source": [
        "# Step 9: Save results\n",
        "# df[['ASIN', 'review_count', 'avg_rating', 'category', 'cluster']].to_csv(\"clustered_data.csv\", index=False)\n",
        "# with open(\"clustering_results.txt\", \"w\") as f:\n",
        "#     f.write(f\"Silhouette Score for k={k_optimal}: {silhouette_avg:.2f}\\n\\n\")\n",
        "#     f.write(\"Cluster Summary:\\n\")\n",
        "#     f.write(cluster_summary.to_string())\n",
        "#     f.write(\"\\n\\nCluster Descriptions (Tentative):\\n\")\n",
        "#     for i, desc in cluster_descriptions.items():\n",
        "#         f.write(f\"Cluster {i}: {desc}\\n\")\n",
        "# print(\"Results saved to 'clustered_data.csv' and 'clustering_results.txt'\")\n",
        "\n",
        "print(f\"Silhouette Score for k={k_optimal}: {silhouette_avg:.2f}\\n\\n\")\n",
        "print(\"Cluster Summary:\\n\")\n",
        "print(cluster_summary.to_string())\n",
        "print(\"\\n\\nCluster Descriptions (Tentative):\\n\")\n",
        "for i, desc in cluster_descriptions.items():\n",
        "    print(f\"Cluster {i}: {desc}\\n\")"
      ],
      "metadata": {
        "colab": {
          "base_uri": "https://localhost:8080/"
        },
        "id": "iLpg0SO5ez7e",
        "outputId": "6d2d480f-d63b-4ab1-c6f0-523e3e343bce"
      },
      "execution_count": 26,
      "outputs": [
        {
          "output_type": "stream",
          "name": "stdout",
          "text": [
            "Silhouette Score for k=5: 0.64\n",
            "\n",
            "\n",
            "Cluster Summary:\n",
            "\n",
            "        review_count       avg_rating     category\n",
            "                mean count       mean top_category\n",
            "cluster                                           \n",
            "0           0.000000     3        0.0         Book\n",
            "1           6.333333     3        4.0         Book\n",
            "2         198.000000     1        4.5         Book\n",
            "3           2.000000     2        5.0         Book\n",
            "4           2.000000     1        4.0         Book\n",
            "\n",
            "\n",
            "Cluster Descriptions (Tentative):\n",
            "\n",
            "Cluster 0: Low reviews, moderate ratings\n",
            "\n",
            "Cluster 1: High-rated books\n",
            "\n",
            "Cluster 2: Niche DVDs\n",
            "\n",
            "Cluster 3: High review count, variable ratings\n",
            "\n",
            "Cluster 4: Low-rated, few reviews\n",
            "\n"
          ]
        }
      ]
    }
  ]
}